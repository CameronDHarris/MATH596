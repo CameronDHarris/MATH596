{
 "cells": [
  {
   "cell_type": "markdown",
   "metadata": {},
   "source": [
    "## Using PCA on NHL Game Data"
   ]
  },
  {
   "cell_type": "code",
   "execution_count": 1,
   "metadata": {},
   "outputs": [],
   "source": [
    "import pandas as pd\n",
    "import numpy as np\n",
    "import matplotlib.pyplot as plt\n",
    "import statsmodels.api as sm"
   ]
  },
  {
   "cell_type": "code",
   "execution_count": 2,
   "metadata": {},
   "outputs": [],
   "source": [
    "games = pd.read_csv(r'C:\\Users\\cameron.harris\\Documents\\Data\\GoalsByPeriod.csv', encoding = 'cp437')"
   ]
  },
  {
   "cell_type": "code",
   "execution_count": 3,
   "metadata": {},
   "outputs": [],
   "source": [
    "# set any string values of -- in the column to zero and set data type as numeric\n",
    "games['GA in P1'] = pd.to_numeric(np.where(games['GA in P1'] == '--', 0, games['GA in P1']))"
   ]
  },
  {
   "cell_type": "markdown",
   "metadata": {},
   "source": [
    "First we have to center and standardize our data. We can do this by subtracting the mean and dividing by the variance for each column of our DataFrame where the new data will be $x^{*}_{d} = \\frac{x_{d} - \\mu_{d}}{\\sigma_{d}}$ where $ d \\in {1,2,3,4,5,6,7,8,9}$ <br>\n",
    "This is helpful in avoiding numerical problems."
   ]
  },
  {
   "cell_type": "code",
   "execution_count": 4,
   "metadata": {},
   "outputs": [
    {
     "name": "stdout",
     "output_type": "stream",
     "text": [
      "EV GF       2.076107\n",
      "PP GF       0.698875\n",
      "SH GF       0.123724\n",
      "GF in P1    0.560016\n",
      "GF in P2    0.959959\n",
      "GF in P3    0.968392\n",
      "GA in P1    0.779179\n",
      "GA in P2    0.968880\n",
      "GA in P3    0.982306\n",
      "dtype: float64\n",
      "EV GF       2.813\n",
      "PP GF       0.732\n",
      "SH GF       0.120\n",
      "GF in P1    1.612\n",
      "GF in P2    1.001\n",
      "GF in P3    0.976\n",
      "GA in P1    0.860\n",
      "GA in P2    1.033\n",
      "GA in P3    0.974\n",
      "dtype: float64\n"
     ]
    }
   ],
   "source": [
    "# need to calculate the mean and the standard deviation of each column\n",
    "mu = np.array(games.mean())\n",
    "sigma = np.array(games.std())\n",
    "print(games[['EV GF', 'PP GF', 'SH GF','GF in P1', 'GF in P2','GF in P3','GA in P1','GA in P2', 'GA in P3']].var())\n",
    "print(games[['EV GF', 'PP GF', 'SH GF','GF in P1', 'GF in P2','GF in P3','GA in P1','GA in P2', 'GA in P3']].mean())"
   ]
  },
  {
   "cell_type": "code",
   "execution_count": 6,
   "metadata": {},
   "outputs": [],
   "source": [
    "games[['EV GF', 'PP GF', 'SH GF','GFP1','GFP2','GFP3','GAP1','GAP2','GAP3']] = (games[['EV GF', 'PP GF', 'SH GF','GF in P1', 'GF in P2','GF in P3','GA in P1','GA in P2', 'GA in P3']] - mu[[6,7,8,10,11,12,15,16,17]]) / sigma[[6,7,8,10,11,12,15,16,17]]"
   ]
  },
  {
   "cell_type": "code",
   "execution_count": 7,
   "metadata": {},
   "outputs": [
    {
     "data": {
      "text/plain": [
       "EV GF    1.0\n",
       "PP GF    1.0\n",
       "SH GF    1.0\n",
       "GFP1     1.0\n",
       "GFP2     1.0\n",
       "GFP3     1.0\n",
       "GAP1     1.0\n",
       "GAP2     1.0\n",
       "GAP3     1.0\n",
       "dtype: float64"
      ]
     },
     "execution_count": 7,
     "metadata": {},
     "output_type": "execute_result"
    }
   ],
   "source": [
    "# all variables have a variance of 1\n",
    "games[['EV GF', 'PP GF', 'SH GF','GFP1','GFP2','GFP3','GAP1','GAP2','GAP3']].std()"
   ]
  },
  {
   "cell_type": "code",
   "execution_count": 8,
   "metadata": {},
   "outputs": [
    {
     "data": {
      "text/plain": [
       "EV GF    1.178169e-15\n",
       "PP GF   -3.645972e-16\n",
       "SH GF   -1.657563e-16\n",
       "GFP1    -6.373790e-15\n",
       "GFP2     1.859710e-17\n",
       "GFP3     2.433609e-16\n",
       "GAP1    -1.908751e-16\n",
       "GAP2     1.352252e-16\n",
       "GAP3    -1.400269e-17\n",
       "dtype: float64"
      ]
     },
     "execution_count": 8,
     "metadata": {},
     "output_type": "execute_result"
    }
   ],
   "source": [
    "# and all variables have a mean of 0\n",
    "games[['EV GF', 'PP GF', 'SH GF','GFP1','GFP2','GFP3','GAP1','GAP2','GAP3']].mean()"
   ]
  },
  {
   "cell_type": "code",
   "execution_count": 9,
   "metadata": {},
   "outputs": [
    {
     "data": {
      "text/plain": [
       "array([[ 2.90588273, -0.87561132, -0.34115737, ...,  0.15860226,\n",
       "        -0.03352579, -0.98273289],\n",
       "       [ 2.21185771,  0.32057901, -0.34115737, ..., -0.97427101,\n",
       "        -0.03352579, -0.98273289],\n",
       "       [ 0.82380769,  0.32057901, -0.34115737, ..., -0.97427101,\n",
       "         0.98240713, -0.98273289],\n",
       "       ...,\n",
       "       [ 0.12978268,  0.32057901, -0.34115737, ..., -0.97427101,\n",
       "        -0.03352579, -0.98273289],\n",
       "       [-0.56424233, -0.87561132, -0.34115737, ..., -0.97427101,\n",
       "        -0.03352579,  1.03519912],\n",
       "       [-0.56424233, -0.87561132, -0.34115737, ...,  0.15860226,\n",
       "        -1.0494587 ,  0.02623312]])"
      ]
     },
     "execution_count": 9,
     "metadata": {},
     "output_type": "execute_result"
    }
   ],
   "source": [
    "X = np.array(games[['EV GF', 'PP GF', 'SH GF', 'GFP1','GFP2','GFP3','GAP1','GAP2','GAP3']])\n",
    "X"
   ]
  },
  {
   "cell_type": "markdown",
   "metadata": {},
   "source": [
    "We need to calculate the covariance matrix to understand how our variables relate to each other and to find the most important principal components\n",
    "$\\Large \\Sigma = \\Large \\frac{1}{n}X^{T}X = \\begin{bmatrix} \\sigma^{2}_{11} & ... & \\sigma_{1n} \\\\ ... & ... & ... \\\\ \\sigma_{n1} & ... & \\sigma^{2}_{nn} \\end{bmatrix}$"
   ]
  },
  {
   "cell_type": "code",
   "execution_count": 10,
   "metadata": {},
   "outputs": [
    {
     "data": {
      "text/plain": [
       "array([[ 1.        , -0.17294794, -0.03468228,  0.36061005,  0.49363871,\n",
       "         0.53548389, -0.05916887, -0.04504978, -0.02023078],\n",
       "       [-0.17294794,  1.        , -0.00626363,  0.18883194,  0.25941375,\n",
       "         0.1868572 , -0.0210527 , -0.02573555, -0.01687507],\n",
       "       [-0.03468228, -0.00626363,  1.        ,  0.10480621,  0.13907076,\n",
       "         0.09219357, -0.0457802 , -0.00566669,  0.00608724],\n",
       "       [ 0.36061005,  0.18883194,  0.10480621,  1.        ,  0.01281684,\n",
       "        -0.02353184, -0.05503785, -0.0423934 , -0.0325096 ],\n",
       "       [ 0.49363871,  0.25941375,  0.13907076,  0.01281684,  1.        ,\n",
       "         0.01455977, -0.01141212, -0.07580404, -0.00615815],\n",
       "       [ 0.53548389,  0.1868572 ,  0.09219357, -0.02353184,  0.01455977,\n",
       "         1.        , -0.0684044 ,  0.02045331, -0.00371941],\n",
       "       [-0.05916887, -0.0210527 , -0.0457802 , -0.05503785, -0.01141212,\n",
       "        -0.0684044 ,  1.        , -0.00389401, -0.03505752],\n",
       "       [-0.04504978, -0.02573555, -0.00566669, -0.0423934 , -0.07580404,\n",
       "         0.02045331, -0.00389401,  1.        ,  0.03576667],\n",
       "       [-0.02023078, -0.01687507,  0.00608724, -0.0325096 , -0.00615815,\n",
       "        -0.00371941, -0.03505752,  0.03576667,  1.        ]])"
      ]
     },
     "execution_count": 10,
     "metadata": {},
     "output_type": "execute_result"
    }
   ],
   "source": [
    "cov = np.array(games[['EV GF', 'PP GF', 'SH GF','GFP1','GFP2','GFP3','GAP1','GAP2','GAP3']].cov())\n",
    "cov"
   ]
  },
  {
   "cell_type": "code",
   "execution_count": 11,
   "metadata": {},
   "outputs": [],
   "source": [
    "# we need the eigenvalues and eigenvectors of the covariance matrix\n",
    "eigvalues, eigvectors = np.linalg.eig(cov)"
   ]
  },
  {
   "cell_type": "code",
   "execution_count": 12,
   "metadata": {},
   "outputs": [
    {
     "name": "stdout",
     "output_type": "stream",
     "text": [
      "Vector norm:  1.0\n",
      "Vector norm:  1.0000000000000016\n",
      "Vector norm:  1.000000000000005\n",
      "Vector norm:  0.9999999999999943\n",
      "Vector norm:  0.9999999999999983\n",
      "Vector norm:  1.000000000000001\n",
      "Vector norm:  0.9999999999999979\n",
      "Vector norm:  1.0000000000000016\n",
      "Vector norm:  0.9999999999999998\n"
     ]
    }
   ],
   "source": [
    "for i in range(len(eigvectors)):\n",
    "    print('Vector norm: ', np.linalg.norm(eigvectors[i]))"
   ]
  },
  {
   "cell_type": "markdown",
   "metadata": {},
   "source": [
    "so all vectors are essentially equal to 1"
   ]
  },
  {
   "cell_type": "code",
   "execution_count": 13,
   "metadata": {},
   "outputs": [
    {
     "data": {
      "text/plain": [
       "array([0.0129346 , 1.87543368, 1.18041789, 0.88729529, 1.07858209,\n",
       "       0.9510846 , 0.97370436, 1.03281654, 1.00773096])"
      ]
     },
     "execution_count": 13,
     "metadata": {},
     "output_type": "execute_result"
    }
   ],
   "source": [
    "eigvalues"
   ]
  },
  {
   "cell_type": "code",
   "execution_count": 14,
   "metadata": {},
   "outputs": [
    {
     "data": {
      "text/plain": [
       "array([[-6.24072785e-01, -6.39232454e-01, -3.75296245e-01,\n",
       "        -7.29360141e-02, -1.82766695e-01, -1.21304579e-01,\n",
       "         6.52109560e-02, -5.64426351e-02,  1.38343623e-02],\n",
       "       [-3.61414923e-01, -1.80538284e-01,  7.07283580e-01,\n",
       "         9.28457065e-02,  2.34606587e-01,  3.24369491e-02,\n",
       "         1.05160094e-01,  4.51594439e-01, -2.38382477e-01],\n",
       "       [-1.56511734e-01, -1.38785818e-01,  2.28864334e-01,\n",
       "         2.39496116e-01,  3.31854675e-01,  7.63873447e-02,\n",
       "        -6.40515938e-01, -4.12802572e-01,  3.87138372e-01],\n",
       "       [ 3.18191618e-01, -3.26027761e-01,  2.50350849e-01,\n",
       "         1.40121362e-01, -1.42992927e-02, -4.91272166e-01,\n",
       "         1.39568464e-01, -5.13617068e-01, -4.30483205e-01],\n",
       "       [ 4.18615221e-01, -4.57330383e-01,  2.63113469e-01,\n",
       "        -4.94350649e-01, -1.62484362e-01, -5.57919515e-02,\n",
       "        -1.34463676e-02,  1.89866452e-01,  4.86060667e-01],\n",
       "       [ 4.22987074e-01, -4.50121881e-01, -3.15238235e-01,\n",
       "         4.45378168e-01,  2.29939055e-01,  2.96270958e-01,\n",
       "        -1.40496777e-01,  3.50283559e-01, -1.94033515e-01],\n",
       "       [-6.04768134e-04,  1.14719525e-01,  3.74870677e-02,\n",
       "         4.40419357e-01, -5.21423147e-01, -5.16463973e-01,\n",
       "        -3.16916722e-01,  3.58941449e-01,  1.53532633e-01],\n",
       "       [-1.63817658e-03,  8.48267062e-02, -2.43998883e-01,\n",
       "        -4.33514866e-01,  4.71409982e-01, -4.93226597e-01,\n",
       "        -3.93852219e-01,  2.59926552e-01, -2.39060499e-01],\n",
       "       [-3.28127233e-03,  3.33956245e-02, -1.19597902e-01,\n",
       "         2.90549482e-01,  4.77327439e-01, -3.68989082e-01,\n",
       "         5.28651997e-01,  5.93263729e-02,  5.03154378e-01]])"
      ]
     },
     "execution_count": 14,
     "metadata": {},
     "output_type": "execute_result"
    }
   ],
   "source": [
    "eigvectors"
   ]
  },
  {
   "cell_type": "code",
   "execution_count": 15,
   "metadata": {},
   "outputs": [
    {
     "data": {
      "text/plain": [
       "array([1.87543368, 1.18041789, 1.07858209, 1.03281654, 1.00773096,\n",
       "       0.97370436, 0.9510846 , 0.88729529, 0.0129346 ])"
      ]
     },
     "execution_count": 15,
     "metadata": {},
     "output_type": "execute_result"
    }
   ],
   "source": [
    "sorted_eigvalues = eigvalues[np.argsort(eigvalues)[::-1]]\n",
    "sorted_eigvectors = eigvectors[: ,np.argsort(eigvalues)[::-1]]\n",
    "sorted_eigvalues"
   ]
  },
  {
   "cell_type": "markdown",
   "metadata": {},
   "source": [
    "we can take the M largest eigenvalues and find the maximum amount of variance (Vm) that can be captured with M principal components <br>\n",
    "$\\Large V_{m} = \\Large \\sum \\limits _{m=1} ^{M}\\lambda_{m} $ <br>\n",
    "and determine how much variance is lost due to compression using <br>\n",
    "$\\Large 1 -  \\Large{\\frac{V_{M}}{V_{D}}} $ where $\\Large V_{D} = \\Large \\sum \\limits _{m=1} ^{D}\\lambda_{m} $ <br> for $ M \\leq D$"
   ]
  },
  {
   "cell_type": "code",
   "execution_count": 16,
   "metadata": {},
   "outputs": [
    {
     "data": {
      "text/plain": [
       "0.6604609373280148"
      ]
     },
     "execution_count": 16,
     "metadata": {},
     "output_type": "execute_result"
    }
   ],
   "source": [
    "# variance lost from using only the first two principal components\n",
    "1 - (np.sum(sorted_eigvalues[0:2]) / np.sum(sorted_eigvalues))"
   ]
  },
  {
   "cell_type": "code",
   "execution_count": 17,
   "metadata": {},
   "outputs": [
    {
     "data": {
      "text/plain": [
       "0.4258610895190491"
      ]
     },
     "execution_count": 17,
     "metadata": {},
     "output_type": "execute_result"
    }
   ],
   "source": [
    "# variance lost from using only the first four principal components\n",
    "1 - (np.sum(sorted_eigvalues[0:4]) / np.sum(sorted_eigvalues))"
   ]
  },
  {
   "cell_type": "code",
   "execution_count": 18,
   "metadata": {},
   "outputs": [],
   "source": [
    "variance_lost = np.array([])\n",
    "for i in range(1, len(sorted_eigvalues)+1):\n",
    "    variance_lost = np.append(variance_lost, 1 - (np.sum(sorted_eigvalues[0:i]) / np.sum(sorted_eigvalues)))"
   ]
  },
  {
   "cell_type": "code",
   "execution_count": 19,
   "metadata": {},
   "outputs": [
    {
     "data": {
      "image/png": "[encoded data removed]",
      "text/plain": [
       "<Figure size 432x288 with 1 Axes>"
      ]
     },
     "metadata": {
      "needs_background": "light"
     },
     "output_type": "display_data"
    }
   ],
   "source": [
    "plt.figure()\n",
    "plt.style.use(['fivethirtyeight'])\n",
    "plt.title('Scree Plot')\n",
    "plt.yticks(np.arange(0,2.0,step=0.25))\n",
    "plt.xticks(np.arange(1,10,step=1))\n",
    "plt.xlabel('Principal Component')\n",
    "plt.ylabel('Eigenvalue')\n",
    "plt.plot([1,2,3,4,5,6,7,8,9], sorted_eigvalues)\n",
    "plt.show()"
   ]
  },
  {
   "cell_type": "code",
   "execution_count": 20,
   "metadata": {},
   "outputs": [
    {
     "data": {
      "image/png": "[encoded data removed]",
      "text/plain": [
       "<Figure size 432x288 with 1 Axes>"
      ]
     },
     "metadata": {},
     "output_type": "display_data"
    }
   ],
   "source": [
    "plt.figure()\n",
    "plt.style.use(['fivethirtyeight'])\n",
    "plt.title('Variance Loss from Compression')\n",
    "plt.yticks(np.arange(0,1,step=0.1))\n",
    "plt.xticks(np.arange(1,10,step=1))\n",
    "plt.xlabel('Principal Components')\n",
    "plt.ylabel('% Lost')\n",
    "plt.plot([1,2,3,4,5,6,7,8,9], variance_lost)\n",
    "plt.show()"
   ]
  },
  {
   "cell_type": "markdown",
   "metadata": {},
   "source": [
    "now we need to obtain the eigendecomposition of the covariance matrix where\n",
    "$\\Large \\Sigma = \\Large PDP^{-1} $ and where D is a diagonal matrix of eigenvalues $\\Large D = \\begin{bmatrix} \\lambda_{1} & ... & 0 \\\\ ... & ... & ... \\\\ 0 & ... & \\lambda_{n} \\end{bmatrix}$ <br> \n",
    " and P is the matrix of eigenvectors of the covariance matrix"
   ]
  },
  {
   "cell_type": "code",
   "execution_count": 21,
   "metadata": {},
   "outputs": [
    {
     "data": {
      "text/plain": [
       "array([[1.87543368, 0.        , 0.        , 0.        , 0.        ,\n",
       "        0.        , 0.        , 0.        , 0.        ],\n",
       "       [0.        , 1.18041789, 0.        , 0.        , 0.        ,\n",
       "        0.        , 0.        , 0.        , 0.        ],\n",
       "       [0.        , 0.        , 1.07858209, 0.        , 0.        ,\n",
       "        0.        , 0.        , 0.        , 0.        ],\n",
       "       [0.        , 0.        , 0.        , 1.03281654, 0.        ,\n",
       "        0.        , 0.        , 0.        , 0.        ],\n",
       "       [0.        , 0.        , 0.        , 0.        , 1.00773096,\n",
       "        0.        , 0.        , 0.        , 0.        ],\n",
       "       [0.        , 0.        , 0.        , 0.        , 0.        ,\n",
       "        0.97370436, 0.        , 0.        , 0.        ],\n",
       "       [0.        , 0.        , 0.        , 0.        , 0.        ,\n",
       "        0.        , 0.9510846 , 0.        , 0.        ],\n",
       "       [0.        , 0.        , 0.        , 0.        , 0.        ,\n",
       "        0.        , 0.        , 0.88729529, 0.        ],\n",
       "       [0.        , 0.        , 0.        , 0.        , 0.        ,\n",
       "        0.        , 0.        , 0.        , 0.0129346 ]])"
      ]
     },
     "execution_count": 21,
     "metadata": {},
     "output_type": "execute_result"
    }
   ],
   "source": [
    "D = np.diag(sorted_eigvalues)\n",
    "D"
   ]
  },
  {
   "cell_type": "code",
   "execution_count": 22,
   "metadata": {},
   "outputs": [],
   "source": [
    "P = np.array(sorted_eigvectors)\n",
    "P_1 = np.linalg.inv(sorted_eigvectors)"
   ]
  },
  {
   "cell_type": "code",
   "execution_count": 23,
   "metadata": {},
   "outputs": [
    {
     "data": {
      "text/plain": [
       "array([[-6.39232454e-01, -3.75296245e-01, -1.82766695e-01,\n",
       "        -5.64426351e-02,  1.38343623e-02,  6.52109560e-02,\n",
       "        -1.21304579e-01, -7.29360141e-02, -6.24072785e-01],\n",
       "       [-1.80538284e-01,  7.07283580e-01,  2.34606587e-01,\n",
       "         4.51594439e-01, -2.38382477e-01,  1.05160094e-01,\n",
       "         3.24369491e-02,  9.28457065e-02, -3.61414923e-01],\n",
       "       [-1.38785818e-01,  2.28864334e-01,  3.31854675e-01,\n",
       "        -4.12802572e-01,  3.87138372e-01, -6.40515938e-01,\n",
       "         7.63873447e-02,  2.39496116e-01, -1.56511734e-01],\n",
       "       [-3.26027761e-01,  2.50350849e-01, -1.42992927e-02,\n",
       "        -5.13617068e-01, -4.30483205e-01,  1.39568464e-01,\n",
       "        -4.91272166e-01,  1.40121362e-01,  3.18191618e-01],\n",
       "       [-4.57330383e-01,  2.63113469e-01, -1.62484362e-01,\n",
       "         1.89866452e-01,  4.86060667e-01, -1.34463676e-02,\n",
       "        -5.57919515e-02, -4.94350649e-01,  4.18615221e-01],\n",
       "       [-4.50121881e-01, -3.15238235e-01,  2.29939055e-01,\n",
       "         3.50283559e-01, -1.94033515e-01, -1.40496777e-01,\n",
       "         2.96270958e-01,  4.45378168e-01,  4.22987074e-01],\n",
       "       [ 1.14719525e-01,  3.74870677e-02, -5.21423147e-01,\n",
       "         3.58941449e-01,  1.53532633e-01, -3.16916722e-01,\n",
       "        -5.16463973e-01,  4.40419357e-01, -6.04768134e-04],\n",
       "       [ 8.48267062e-02, -2.43998883e-01,  4.71409982e-01,\n",
       "         2.59926552e-01, -2.39060499e-01, -3.93852219e-01,\n",
       "        -4.93226597e-01, -4.33514866e-01, -1.63817658e-03],\n",
       "       [ 3.33956245e-02, -1.19597902e-01,  4.77327439e-01,\n",
       "         5.93263729e-02,  5.03154378e-01,  5.28651997e-01,\n",
       "        -3.68989082e-01,  2.90549482e-01, -3.28127233e-03]])"
      ]
     },
     "execution_count": 23,
     "metadata": {},
     "output_type": "execute_result"
    }
   ],
   "source": [
    "P"
   ]
  },
  {
   "cell_type": "code",
   "execution_count": 24,
   "metadata": {},
   "outputs": [
    {
     "data": {
      "text/plain": [
       "array([[ 1.        , -0.17294794, -0.03468228,  0.36061005,  0.49363871,\n",
       "         0.53548389, -0.05916887, -0.04504978, -0.02023078],\n",
       "       [-0.17294794,  1.        , -0.00626363,  0.18883194,  0.25941375,\n",
       "         0.1868572 , -0.0210527 , -0.02573555, -0.01687507],\n",
       "       [-0.03468228, -0.00626363,  1.        ,  0.10480621,  0.13907076,\n",
       "         0.09219357, -0.0457802 , -0.00566669,  0.00608724],\n",
       "       [ 0.36061005,  0.18883194,  0.10480621,  1.        ,  0.01281684,\n",
       "        -0.02353184, -0.05503785, -0.0423934 , -0.0325096 ],\n",
       "       [ 0.49363871,  0.25941375,  0.13907076,  0.01281684,  1.        ,\n",
       "         0.01455977, -0.01141212, -0.07580404, -0.00615815],\n",
       "       [ 0.53548389,  0.1868572 ,  0.09219357, -0.02353184,  0.01455977,\n",
       "         1.        , -0.0684044 ,  0.02045331, -0.00371941],\n",
       "       [-0.05916887, -0.0210527 , -0.0457802 , -0.05503785, -0.01141212,\n",
       "        -0.0684044 ,  1.        , -0.00389401, -0.03505752],\n",
       "       [-0.04504978, -0.02573555, -0.00566669, -0.0423934 , -0.07580404,\n",
       "         0.02045331, -0.00389401,  1.        ,  0.03576667],\n",
       "       [-0.02023078, -0.01687507,  0.00608724, -0.0325096 , -0.00615815,\n",
       "        -0.00371941, -0.03505752,  0.03576667,  1.        ]])"
      ]
     },
     "execution_count": 24,
     "metadata": {},
     "output_type": "execute_result"
    }
   ],
   "source": [
    "# eigendecomposition\n",
    "P @ D @ P_1"
   ]
  },
  {
   "cell_type": "markdown",
   "metadata": {},
   "source": [
    "this is equal to the covariance matrix so we have successfully found the eigendecomposition"
   ]
  },
  {
   "cell_type": "markdown",
   "metadata": {},
   "source": [
    "to find a projection of the original data onto a new feature space we can use $ \\Large Z = (P^{T}X^{T})^{T} $"
   ]
  },
  {
   "cell_type": "code",
   "execution_count": 25,
   "metadata": {},
   "outputs": [
    {
     "data": {
      "text/plain": [
       "array([[-3.15612325, -0.53082571, -1.47629014, ..., -2.3265919 ,\n",
       "         0.0696506 ,  0.01000606],\n",
       "       [-3.06776289,  1.12210325, -0.8776049 , ..., -1.9765253 ,\n",
       "        -1.22475168,  0.00891413],\n",
       "       [-1.18249837,  0.203175  ,  0.43945164, ..., -1.2377985 ,\n",
       "        -0.28947842,  0.02362038],\n",
       "       ...,\n",
       "       [-0.45157492,  0.24499425, -0.18697764, ...,  1.20302974,\n",
       "        -1.36927469,  0.03733372],\n",
       "       [ 1.19959621, -0.53013028,  0.55462421, ...,  0.25969898,\n",
       "        -0.79144022,  0.03906435],\n",
       "       [ 1.2096856 , -0.11910547, -0.99661021, ...,  0.54799332,\n",
       "        -0.14523343,  0.0433542 ]])"
      ]
     },
     "execution_count": 25,
     "metadata": {},
     "output_type": "execute_result"
    }
   ],
   "source": [
    "# compress the data\n",
    "Z = (P.T[0:9] @ X.T)\n",
    "Z.T"
   ]
  },
  {
   "cell_type": "code",
   "execution_count": 26,
   "metadata": {},
   "outputs": [
    {
     "data": {
      "text/plain": [
       "array([[-3.15612325e+00,  5.30825713e-01, -1.47629014e+00,\n",
       "         2.74566388e+00,  2.29941714e+00,  3.87810749e-01],\n",
       "       [-3.06776289e+00, -1.12210325e+00, -8.77604903e-01,\n",
       "         2.73510193e+00,  2.07483352e+00,  9.56417974e-01],\n",
       "       [-1.18249837e+00, -2.03175003e-01,  4.39451639e-01,\n",
       "         1.73796633e+00,  2.95101962e+00,  1.63947580e-01],\n",
       "       ...,\n",
       "       [-4.51574915e-01, -2.44994252e-01, -1.86977644e-01,\n",
       "        -4.83729479e-01, -1.84269180e-04, -6.81415056e-02],\n",
       "       [ 1.19959621e+00,  5.30130280e-01,  5.54624209e-01,\n",
       "         4.47314168e-01, -9.92145463e-01,  9.84087917e-01],\n",
       "       [ 1.20968560e+00,  1.19105469e-01, -9.96610213e-01,\n",
       "         3.64605229e-01, -9.01282246e-01,  4.91796972e-01]])"
      ]
     },
     "execution_count": 26,
     "metadata": {},
     "output_type": "execute_result"
    }
   ],
   "source": [
    "# we can compare this to a low-rank approximation using the Singular Value Decomposition instead of the Eigendecomposition\n",
    "# the singular values are already ordered so we don't need to sort the eigenvectors in U\n",
    "U, largeSigma, V = np.linalg.svd(X.T)\n",
    "Z_svd = (U.T[0:6] @ X.T)\n",
    "Z_svd.T"
   ]
  },
  {
   "cell_type": "code",
   "execution_count": 27,
   "metadata": {},
   "outputs": [
    {
     "data": {
      "text/plain": [
       "array([[ 2.54883748,  1.6982427 ,  0.48511783, ...,  0.06237142,\n",
       "        -0.67902727, -0.52704115],\n",
       "       [-0.57735375,  0.69641932,  0.48957965, ...,  0.32762813,\n",
       "        -0.76893642, -0.84362567],\n",
       "       [-0.08238359,  0.17359622,  0.28082188, ..., -0.26426055,\n",
       "        -0.20806191, -0.35226995],\n",
       "       ...,\n",
       "       [ 1.9781241 ,  1.64055377,  0.6919626 , ..., -0.55423566,\n",
       "        -0.44863481, -0.16820219],\n",
       "       [-0.37925694, -0.74084225,  0.37784111, ..., -0.54494412,\n",
       "         0.08882839, -0.31695851],\n",
       "       [-0.97838634, -0.9764188 , -0.97930955, ..., -0.98064522,\n",
       "         1.03566625,  0.02355569]])"
      ]
     },
     "execution_count": 27,
     "metadata": {},
     "output_type": "execute_result"
    }
   ],
   "source": [
    "# we can also uncompress the data back into the original feature space\n",
    "uncompressed_X = P[0:6].T @ P[0:6] @ X.T\n",
    "uncompressed_X"
   ]
  },
  {
   "cell_type": "markdown",
   "metadata": {},
   "source": [
    "Similarly to how we found the amount of variance we would lose with a certain number of principal components, we can use $\\Large \\sum \\limits _{i=M+1} ^{D} \\lambda_{i} $ which is equal to the squared reconstruction error $\\Large \\frac{1}{N} \\sum \\limits _{n=1} ^{N} ||x_{n} - \\tilde x_{n}||^{2} $"
   ]
  },
  {
   "cell_type": "code",
   "execution_count": 28,
   "metadata": {},
   "outputs": [],
   "source": [
    "reconstruction_error = np.array([])\n",
    "for i in range(1, len(sorted_eigvalues)+1):\n",
    "    reconstruction_error = np.append(reconstruction_error, np.sum(sorted_eigvalues[-i:]))"
   ]
  },
  {
   "cell_type": "code",
   "execution_count": 29,
   "metadata": {},
   "outputs": [
    {
     "data": {
      "text/plain": [
       "3.8327498056714298"
      ]
     },
     "execution_count": 29,
     "metadata": {},
     "output_type": "execute_result"
    }
   ],
   "source": [
    "np.sum(sorted_eigvalues[-5:])"
   ]
  },
  {
   "cell_type": "code",
   "execution_count": 30,
   "metadata": {},
   "outputs": [
    {
     "data": {
      "image/png": "[encoded data removed]",
      "text/plain": [
       "<Figure size 432x288 with 1 Axes>"
      ]
     },
     "metadata": {},
     "output_type": "display_data"
    }
   ],
   "source": [
    "plt.figure()\n",
    "plt.style.use(['fivethirtyeight'])\n",
    "plt.title('Reconstruction Error')\n",
    "plt.yticks(np.arange(0,10,step=1))\n",
    "plt.xticks(np.arange(1,10,step=1))\n",
    "plt.xlabel('Principal Components')\n",
    "plt.ylabel('Total Error')\n",
    "plt.plot([9,8,7,6,5,4,3,2,1], reconstruction_error)\n",
    "plt.show()"
   ]
  },
  {
   "cell_type": "markdown",
   "metadata": {},
   "source": [
    "Now that we've completed the compression let's see if we can extract some useful insights. <br>One drawback of PCA is that because it compresses the data to maximize variance and decrease dimension, it becomes difficult to interpret what the prinipal components actually are in context. Let's see what the first principal component is correlated with in our original data to get a sense of how we can interpret it."
   ]
  },
  {
   "cell_type": "code",
   "execution_count": 31,
   "metadata": {},
   "outputs": [
    {
     "name": "stdout",
     "output_type": "stream",
     "text": [
      "PC1 & EV GF : -0.8754063074185892\n",
      "PC1 & PP GF : -0.24724081396577552\n",
      "PC1 & SH GF : -0.19006228483924167\n",
      "PC1 & GFP1 : -0.4464835227817955\n",
      "PC1 & GFP2 : -0.6262978342599194\n",
      "PC1 & GFP3 : -0.6164260452115001\n",
      "PC1 & GAP1 : 0.15710434433752227\n",
      "PC1 & GAP2 : 0.11616718331331734\n",
      "PC1 & GAP3 : 0.04573413029301308\n"
     ]
    }
   ],
   "source": [
    "pc1 = pd.DataFrame(Z.T[:, 0], columns = ['PC1'])\n",
    "for column in games[['EV GF', 'PP GF', 'SH GF', 'GFP1','GFP2','GFP3','GAP1','GAP2','GAP3']].columns:\n",
    "    print('PC1 & {} :'.format(column), pc1['PC1'].corr(games[column]))"
   ]
  },
  {
   "cell_type": "markdown",
   "metadata": {},
   "source": [
    "So our first principal component is strongly correlated with Even Strength Goals For and moderately correlated with Goals For in Periods 2 & 3. The simplest way to interpret this is just as Even Strength Goals in Periods 2 & 3. This makes sense because Even Strength Goals has the most variance by far in the data."
   ]
  },
  {
   "cell_type": "code",
   "execution_count": 32,
   "metadata": {},
   "outputs": [
    {
     "name": "stdout",
     "output_type": "stream",
     "text": [
      "PC2 & EV GF : -0.4077482535769709\n",
      "PC2 & PP GF : 0.7684426595899517\n",
      "PC2 & SH GF : 0.24865431938064847\n",
      "PC2 & GFP1 : 0.27199878154829127\n",
      "PC2 & GFP2 : 0.285864990548251\n",
      "PC2 & GFP3 : -0.3424970052494955\n",
      "PC2 & GAP1 : 0.04072858864461882\n",
      "PC2 & GAP2 : -0.2650975590234737\n",
      "PC2 & GAP3 : -0.129939577638079\n"
     ]
    }
   ],
   "source": [
    "pc2 = pd.DataFrame(Z.T[:, 1], columns = ['PC2'])\n",
    "for column in games[['EV GF', 'PP GF', 'SH GF', 'GFP1','GFP2','GFP3','GAP1','GAP2','GAP3']].columns:\n",
    "    print('PC2 & {} :'.format(column), pc2['PC2'].corr(games[column]))"
   ]
  },
  {
   "cell_type": "markdown",
   "metadata": {},
   "source": [
    "The second principal component is strongly correlated with Powerplay Goals For. Since this principal component is not strongly correlated with any other variable, we can safely assume it represents PowerPlay Goals For."
   ]
  },
  {
   "cell_type": "code",
   "execution_count": 33,
   "metadata": {},
   "outputs": [
    {
     "name": "stdout",
     "output_type": "stream",
     "text": [
      "PC3 & EV GF : -0.1898119975581504\n",
      "PC3 & PP GF : 0.2436502172134738\n",
      "PC3 & SH GF : 0.34464703080205394\n",
      "PC3 & GFP1 : -0.014850502772966076\n",
      "PC3 & GFP2 : -0.16874781985570123\n",
      "PC3 & GFP3 : 0.23880276080468485\n",
      "PC3 & GAP1 : -0.5415230008009757\n",
      "PC3 & GAP2 : 0.4895819250849124\n",
      "PC3 & GAP3 : 0.49572748847671927\n"
     ]
    }
   ],
   "source": [
    "pc3 = pd.DataFrame(Z.T[:, 2], columns = ['PC3'])\n",
    "for column in games[['EV GF', 'PP GF', 'SH GF', 'GFP1','GFP2','GFP3','GAP1','GAP2','GAP3']].columns:\n",
    "    print('PC3 & {} :'.format(column), pc3['PC3'].corr(games[column]))"
   ]
  },
  {
   "cell_type": "code",
   "execution_count": 34,
   "metadata": {},
   "outputs": [
    {
     "name": "stdout",
     "output_type": "stream",
     "text": [
      "PC4 & EV GF : -0.057361285296984914\n",
      "PC4 & PP GF : 0.45894450906832474\n",
      "PC4 & SH GF : -0.41952127242714615\n",
      "PC4 & GFP1 : -0.5219766076495715\n",
      "PC4 & GFP2 : 0.19295668418142592\n",
      "PC4 & GFP3 : 0.35598471145557803\n",
      "PC4 & GAP1 : 0.36478351540101994\n",
      "PC4 & GAP2 : 0.26415707041493464\n",
      "PC4 & GAP3 : 0.060291958372513874\n"
     ]
    }
   ],
   "source": [
    "pc4 = pd.DataFrame(Z.T[:, 3], columns = ['PC4'])\n",
    "for column in games[['EV GF', 'PP GF', 'SH GF', 'GFP1','GFP2','GFP3','GAP1','GAP2','GAP3']].columns:\n",
    "    print('PC4 & {} :'.format(column), pc4['PC4'].corr(games[column]))"
   ]
  },
  {
   "cell_type": "code",
   "execution_count": 35,
   "metadata": {},
   "outputs": [
    {
     "name": "stdout",
     "output_type": "stream",
     "text": [
      "PC5 & EV GF : 0.01388773582881149\n",
      "PC5 & PP GF : -0.23930216535525423\n",
      "PC5 & SH GF : 0.38863196602892175\n",
      "PC5 & GFP1 : -0.4321440254312992\n",
      "PC5 & GFP2 : 0.48793590692346794\n",
      "PC5 & GFP3 : -0.19478210349758251\n",
      "PC5 & GAP1 : 0.1541249671054577\n",
      "PC5 & GAP2 : -0.23998280330642652\n",
      "PC5 & GAP3 : 0.5050955659348603\n"
     ]
    }
   ],
   "source": [
    "pc5 = pd.DataFrame(Z.T[:, 4], columns = ['PC5'])\n",
    "for column in games[['EV GF', 'PP GF', 'SH GF', 'GFP1','GFP2','GFP3','GAP1','GAP2','GAP3']].columns:\n",
    "    print('PC5 & {} :'.format(column), pc5['PC5'].corr(games[column]))"
   ]
  },
  {
   "cell_type": "markdown",
   "metadata": {},
   "source": [
    "The principal components become less and less correlated with our original variables as we move away from the first and interpretability is lost."
   ]
  },
  {
   "cell_type": "code",
   "execution_count": 36,
   "metadata": {},
   "outputs": [
    {
     "name": "stdout",
     "output_type": "stream",
     "text": [
      "PC6 & EV GF : 0.0643478624297383\n",
      "PC6 & PP GF : 0.1037682572557188\n",
      "PC6 & SH GF : -0.6320384490090033\n",
      "PC6 & GFP1 : 0.1377212186452926\n",
      "PC6 & GFP2 : -0.013268399400171616\n",
      "PC6 & GFP3 : -0.13863724528966023\n",
      "PC6 & GAP1 : -0.31272220032415354\n",
      "PC6 & GAP2 : -0.3886394245338018\n",
      "PC6 & GAP3 : 0.5216550721610701\n"
     ]
    }
   ],
   "source": [
    "pc6 = pd.DataFrame(Z.T[:, 5], columns = ['PC6'])\n",
    "for column in games[['EV GF', 'PP GF', 'SH GF', 'GFP1','GFP2','GFP3','GAP1','GAP2','GAP3']].columns:\n",
    "    print('PC6 & {} :'.format(column), pc6['PC6'].corr(games[column]))"
   ]
  },
  {
   "cell_type": "code",
   "execution_count": 37,
   "metadata": {},
   "outputs": [
    {
     "name": "stdout",
     "output_type": "stream",
     "text": [
      "PC7 & EV GF : -0.11830055091071652\n",
      "PC7 & PP GF : 0.03163366955495352\n",
      "PC7 & SH GF : 0.07449566259875777\n",
      "PC7 & GFP1 : -0.4791061361278549\n",
      "PC7 & GFP2 : -0.05441030071761914\n",
      "PC7 & GFP3 : 0.2889340039417272\n",
      "PC7 & GAP1 : -0.5036740838852861\n",
      "PC7 & GAP2 : -0.48101216626616555\n",
      "PC7 & GAP3 : -0.35985131114938224\n"
     ]
    }
   ],
   "source": [
    "pc7 = pd.DataFrame(Z.T[:, 6], columns = ['PC7'])\n",
    "for column in games[['EV GF', 'PP GF', 'SH GF', 'GFP1','GFP2','GFP3','GAP1','GAP2','GAP3']].columns:\n",
    "    print('PC7 & {} :'.format(column), pc7['PC7'].corr(games[column]))"
   ]
  },
  {
   "cell_type": "markdown",
   "metadata": {},
   "source": [
    "Now that we' ve tried to interpret a few of our principal components, we can see if the dimensionality reduction will help improve regression results."
   ]
  },
  {
   "cell_type": "code",
   "execution_count": 38,
   "metadata": {},
   "outputs": [
    {
     "data": {
      "text/html": [
       "<table class=\"simpletable\">\n",
       "<caption>OLS Regression Results</caption>\n",
       "<tr>\n",
       "  <th>Dep. Variable:</th>            <td>W</td>        <th>  R-squared:         </th> <td>   0.361</td> \n",
       "</tr>\n",
       "<tr>\n",
       "  <th>Model:</th>                   <td>OLS</td>       <th>  Adj. R-squared:    </th> <td>   0.360</td> \n",
       "</tr>\n",
       "<tr>\n",
       "  <th>Method:</th>             <td>Least Squares</td>  <th>  F-statistic:       </th> <td>   400.6</td> \n",
       "</tr>\n",
       "<tr>\n",
       "  <th>Date:</th>             <td>Mon, 12 Oct 2020</td> <th>  Prob (F-statistic):</th> <td>2.06e-128</td>\n",
       "</tr>\n",
       "<tr>\n",
       "  <th>Time:</th>                 <td>23:05:06</td>     <th>  Log-Likelihood:    </th> <td> -466.73</td> \n",
       "</tr>\n",
       "<tr>\n",
       "  <th>No. Observations:</th>      <td>  1000</td>      <th>  AIC:               </th> <td>   939.5</td> \n",
       "</tr>\n",
       "<tr>\n",
       "  <th>Df Residuals:</th>          <td>   997</td>      <th>  BIC:               </th> <td>   954.2</td> \n",
       "</tr>\n",
       "<tr>\n",
       "  <th>Df Model:</th>              <td>     2</td>      <th>                     </th>     <td> </td>    \n",
       "</tr>\n",
       "<tr>\n",
       "  <th>Covariance Type:</th>         <td>HC2</td>       <th>                     </th>     <td> </td>    \n",
       "</tr>\n",
       "</table>\n",
       "<table class=\"simpletable\">\n",
       "<tr>\n",
       "    <td></td>       <th>coef</th>     <th>std err</th>      <th>z</th>      <th>P>|z|</th>  <th>[0.025</th>    <th>0.975]</th>  \n",
       "</tr>\n",
       "<tr>\n",
       "  <th>const</th> <td>    0.6300</td> <td>    0.012</td> <td>   51.560</td> <td> 0.000</td> <td>    0.606</td> <td>    0.654</td>\n",
       "</tr>\n",
       "<tr>\n",
       "  <th>PC1</th>   <td>   -0.2069</td> <td>    0.007</td> <td>  -27.649</td> <td> 0.000</td> <td>   -0.222</td> <td>   -0.192</td>\n",
       "</tr>\n",
       "<tr>\n",
       "  <th>PC2</th>   <td>    0.0581</td> <td>    0.011</td> <td>    5.458</td> <td> 0.000</td> <td>    0.037</td> <td>    0.079</td>\n",
       "</tr>\n",
       "</table>\n",
       "<table class=\"simpletable\">\n",
       "<tr>\n",
       "  <th>Omnibus:</th>       <td>176.461</td> <th>  Durbin-Watson:     </th> <td>   2.203</td>\n",
       "</tr>\n",
       "<tr>\n",
       "  <th>Prob(Omnibus):</th> <td> 0.000</td>  <th>  Jarque-Bera (JB):  </th> <td>  42.541</td>\n",
       "</tr>\n",
       "<tr>\n",
       "  <th>Skew:</th>          <td>-0.162</td>  <th>  Prob(JB):          </th> <td>5.79e-10</td>\n",
       "</tr>\n",
       "<tr>\n",
       "  <th>Kurtosis:</th>      <td> 2.043</td>  <th>  Cond. No.          </th> <td>    1.37</td>\n",
       "</tr>\n",
       "</table><br/><br/>Warnings:<br/>[1] Standard Errors are heteroscedasticity robust (HC2)"
      ],
      "text/plain": [
       "<class 'statsmodels.iolib.summary.Summary'>\n",
       "\"\"\"\n",
       "                            OLS Regression Results                            \n",
       "==============================================================================\n",
       "Dep. Variable:                      W   R-squared:                       0.361\n",
       "Model:                            OLS   Adj. R-squared:                  0.360\n",
       "Method:                 Least Squares   F-statistic:                     400.6\n",
       "Date:                Mon, 12 Oct 2020   Prob (F-statistic):          2.06e-128\n",
       "Time:                        23:05:06   Log-Likelihood:                -466.73\n",
       "No. Observations:                1000   AIC:                             939.5\n",
       "Df Residuals:                     997   BIC:                             954.2\n",
       "Df Model:                           2                                         \n",
       "Covariance Type:                  HC2                                         \n",
       "==============================================================================\n",
       "                 coef    std err          z      P>|z|      [0.025      0.975]\n",
       "------------------------------------------------------------------------------\n",
       "const          0.6300      0.012     51.560      0.000       0.606       0.654\n",
       "PC1           -0.2069      0.007    -27.649      0.000      -0.222      -0.192\n",
       "PC2            0.0581      0.011      5.458      0.000       0.037       0.079\n",
       "==============================================================================\n",
       "Omnibus:                      176.461   Durbin-Watson:                   2.203\n",
       "Prob(Omnibus):                  0.000   Jarque-Bera (JB):               42.541\n",
       "Skew:                          -0.162   Prob(JB):                     5.79e-10\n",
       "Kurtosis:                       2.043   Cond. No.                         1.37\n",
       "==============================================================================\n",
       "\n",
       "Warnings:\n",
       "[1] Standard Errors are heteroscedasticity robust (HC2)\n",
       "\"\"\""
      ]
     },
     "execution_count": 38,
     "metadata": {},
     "output_type": "execute_result"
    }
   ],
   "source": [
    "PCs = pd.DataFrame(Z[0:2].T, columns = ['PC1','PC2'])\n",
    "PCs = sm.add_constant(PCs)\n",
    "Y = games['W']\n",
    "model = sm.OLS(Y, PCs)\n",
    "results = model.fit(cov_type = 'HC2')\n",
    "results.summary()"
   ]
  },
  {
   "cell_type": "markdown",
   "metadata": {},
   "source": [
    "Based on the magnitude of the coefficients, the first principal component has a greater effect than the others."
   ]
  },
  {
   "cell_type": "code",
   "execution_count": 39,
   "metadata": {},
   "outputs": [
    {
     "data": {
      "text/html": [
       "<table class=\"simpletable\">\n",
       "<caption>OLS Regression Results</caption>\n",
       "<tr>\n",
       "  <th>Dep. Variable:</th>            <td>W</td>        <th>  R-squared:         </th> <td>   0.308</td> \n",
       "</tr>\n",
       "<tr>\n",
       "  <th>Model:</th>                   <td>OLS</td>       <th>  Adj. R-squared:    </th> <td>   0.305</td> \n",
       "</tr>\n",
       "<tr>\n",
       "  <th>Method:</th>             <td>Least Squares</td>  <th>  F-statistic:       </th> <td>   158.5</td> \n",
       "</tr>\n",
       "<tr>\n",
       "  <th>Date:</th>             <td>Mon, 12 Oct 2020</td> <th>  Prob (F-statistic):</th> <td>5.77e-105</td>\n",
       "</tr>\n",
       "<tr>\n",
       "  <th>Time:</th>                 <td>23:05:08</td>     <th>  Log-Likelihood:    </th> <td> -506.70</td> \n",
       "</tr>\n",
       "<tr>\n",
       "  <th>No. Observations:</th>      <td>  1000</td>      <th>  AIC:               </th> <td>   1023.</td> \n",
       "</tr>\n",
       "<tr>\n",
       "  <th>Df Residuals:</th>          <td>   995</td>      <th>  BIC:               </th> <td>   1048.</td> \n",
       "</tr>\n",
       "<tr>\n",
       "  <th>Df Model:</th>              <td>     4</td>      <th>                     </th>     <td> </td>    \n",
       "</tr>\n",
       "<tr>\n",
       "  <th>Covariance Type:</th>         <td>HC2</td>       <th>                     </th>     <td> </td>    \n",
       "</tr>\n",
       "</table>\n",
       "<table class=\"simpletable\">\n",
       "<tr>\n",
       "    <td></td>       <th>coef</th>     <th>std err</th>      <th>z</th>      <th>P>|z|</th>  <th>[0.025</th>    <th>0.975]</th>  \n",
       "</tr>\n",
       "<tr>\n",
       "  <th>const</th> <td>    0.6300</td> <td>    0.013</td> <td>   49.496</td> <td> 0.000</td> <td>    0.605</td> <td>    0.655</td>\n",
       "</tr>\n",
       "<tr>\n",
       "  <th>EV GF</th> <td>    0.2554</td> <td>    0.021</td> <td>   12.266</td> <td> 0.000</td> <td>    0.215</td> <td>    0.296</td>\n",
       "</tr>\n",
       "<tr>\n",
       "  <th>PP GF</th> <td>    0.1523</td> <td>    0.015</td> <td>    9.949</td> <td> 0.000</td> <td>    0.122</td> <td>    0.182</td>\n",
       "</tr>\n",
       "<tr>\n",
       "  <th>GFP2</th>  <td>   -0.0151</td> <td>    0.018</td> <td>   -0.833</td> <td> 0.405</td> <td>   -0.051</td> <td>    0.020</td>\n",
       "</tr>\n",
       "<tr>\n",
       "  <th>GFP3</th>  <td>    0.0050</td> <td>    0.018</td> <td>    0.280</td> <td> 0.779</td> <td>   -0.030</td> <td>    0.040</td>\n",
       "</tr>\n",
       "</table>\n",
       "<table class=\"simpletable\">\n",
       "<tr>\n",
       "  <th>Omnibus:</th>       <td>259.348</td> <th>  Durbin-Watson:     </th> <td>   2.250</td>\n",
       "</tr>\n",
       "<tr>\n",
       "  <th>Prob(Omnibus):</th> <td> 0.000</td>  <th>  Jarque-Bera (JB):  </th> <td>  50.679</td>\n",
       "</tr>\n",
       "<tr>\n",
       "  <th>Skew:</th>          <td>-0.194</td>  <th>  Prob(JB):          </th> <td>9.89e-12</td>\n",
       "</tr>\n",
       "<tr>\n",
       "  <th>Kurtosis:</th>      <td> 1.968</td>  <th>  Cond. No.          </th> <td>    3.53</td>\n",
       "</tr>\n",
       "</table><br/><br/>Warnings:<br/>[1] Standard Errors are heteroscedasticity robust (HC2)"
      ],
      "text/plain": [
       "<class 'statsmodels.iolib.summary.Summary'>\n",
       "\"\"\"\n",
       "                            OLS Regression Results                            \n",
       "==============================================================================\n",
       "Dep. Variable:                      W   R-squared:                       0.308\n",
       "Model:                            OLS   Adj. R-squared:                  0.305\n",
       "Method:                 Least Squares   F-statistic:                     158.5\n",
       "Date:                Mon, 12 Oct 2020   Prob (F-statistic):          5.77e-105\n",
       "Time:                        23:05:08   Log-Likelihood:                -506.70\n",
       "No. Observations:                1000   AIC:                             1023.\n",
       "Df Residuals:                     995   BIC:                             1048.\n",
       "Df Model:                           4                                         \n",
       "Covariance Type:                  HC2                                         \n",
       "==============================================================================\n",
       "                 coef    std err          z      P>|z|      [0.025      0.975]\n",
       "------------------------------------------------------------------------------\n",
       "const          0.6300      0.013     49.496      0.000       0.605       0.655\n",
       "EV GF          0.2554      0.021     12.266      0.000       0.215       0.296\n",
       "PP GF          0.1523      0.015      9.949      0.000       0.122       0.182\n",
       "GFP2          -0.0151      0.018     -0.833      0.405      -0.051       0.020\n",
       "GFP3           0.0050      0.018      0.280      0.779      -0.030       0.040\n",
       "==============================================================================\n",
       "Omnibus:                      259.348   Durbin-Watson:                   2.250\n",
       "Prob(Omnibus):                  0.000   Jarque-Bera (JB):               50.679\n",
       "Skew:                          -0.194   Prob(JB):                     9.89e-12\n",
       "Kurtosis:                       1.968   Cond. No.                         3.53\n",
       "==============================================================================\n",
       "\n",
       "Warnings:\n",
       "[1] Standard Errors are heteroscedasticity robust (HC2)\n",
       "\"\"\""
      ]
     },
     "execution_count": 39,
     "metadata": {},
     "output_type": "execute_result"
    }
   ],
   "source": [
    "X_ = games[['EV GF', 'PP GF',  'GFP2', 'GFP3']]\n",
    "X_ = sm.add_constant(X_)\n",
    "Y = games['W']\n",
    "model = sm.OLS(Y, X_)\n",
    "results = model.fit(cov_type = 'HC2')\n",
    "results.summary()"
   ]
  },
  {
   "cell_type": "code",
   "execution_count": 40,
   "metadata": {},
   "outputs": [
    {
     "data": {
      "text/html": [
       "<table class=\"simpletable\">\n",
       "<caption>OLS Regression Results</caption>\n",
       "<tr>\n",
       "  <th>Dep. Variable:</th>            <td>W</td>        <th>  R-squared:         </th> <td>   0.603</td> \n",
       "</tr>\n",
       "<tr>\n",
       "  <th>Model:</th>                   <td>OLS</td>       <th>  Adj. R-squared:    </th> <td>   0.601</td> \n",
       "</tr>\n",
       "<tr>\n",
       "  <th>Method:</th>             <td>Least Squares</td>  <th>  F-statistic:       </th> <td>   424.5</td> \n",
       "</tr>\n",
       "<tr>\n",
       "  <th>Date:</th>             <td>Mon, 12 Oct 2020</td> <th>  Prob (F-statistic):</th> <td>5.06e-270</td>\n",
       "</tr>\n",
       "<tr>\n",
       "  <th>Time:</th>                 <td>23:05:09</td>     <th>  Log-Likelihood:    </th> <td> -228.85</td> \n",
       "</tr>\n",
       "<tr>\n",
       "  <th>No. Observations:</th>      <td>  1000</td>      <th>  AIC:               </th> <td>   471.7</td> \n",
       "</tr>\n",
       "<tr>\n",
       "  <th>Df Residuals:</th>          <td>   993</td>      <th>  BIC:               </th> <td>   506.1</td> \n",
       "</tr>\n",
       "<tr>\n",
       "  <th>Df Model:</th>              <td>     6</td>      <th>                     </th>     <td> </td>    \n",
       "</tr>\n",
       "<tr>\n",
       "  <th>Covariance Type:</th>         <td>HC2</td>       <th>                     </th>     <td> </td>    \n",
       "</tr>\n",
       "</table>\n",
       "<table class=\"simpletable\">\n",
       "<tr>\n",
       "    <td></td>       <th>coef</th>     <th>std err</th>      <th>z</th>      <th>P>|z|</th>  <th>[0.025</th>    <th>0.975]</th>  \n",
       "</tr>\n",
       "<tr>\n",
       "  <th>const</th> <td>    0.6300</td> <td>    0.010</td> <td>   65.281</td> <td> 0.000</td> <td>    0.611</td> <td>    0.649</td>\n",
       "</tr>\n",
       "<tr>\n",
       "  <th>GFP1</th>  <td>    0.0903</td> <td>    0.009</td> <td>    9.811</td> <td> 0.000</td> <td>    0.072</td> <td>    0.108</td>\n",
       "</tr>\n",
       "<tr>\n",
       "  <th>GFP2</th>  <td>    0.1326</td> <td>    0.009</td> <td>   14.684</td> <td> 0.000</td> <td>    0.115</td> <td>    0.150</td>\n",
       "</tr>\n",
       "<tr>\n",
       "  <th>GFP3</th>  <td>    0.1619</td> <td>    0.009</td> <td>   17.767</td> <td> 0.000</td> <td>    0.144</td> <td>    0.180</td>\n",
       "</tr>\n",
       "<tr>\n",
       "  <th>GAP1</th>  <td>   -0.1568</td> <td>    0.009</td> <td>  -16.540</td> <td> 0.000</td> <td>   -0.175</td> <td>   -0.138</td>\n",
       "</tr>\n",
       "<tr>\n",
       "  <th>GAP2</th>  <td>   -0.1524</td> <td>    0.010</td> <td>  -15.723</td> <td> 0.000</td> <td>   -0.171</td> <td>   -0.133</td>\n",
       "</tr>\n",
       "<tr>\n",
       "  <th>GAP3</th>  <td>   -0.1751</td> <td>    0.009</td> <td>  -19.496</td> <td> 0.000</td> <td>   -0.193</td> <td>   -0.157</td>\n",
       "</tr>\n",
       "</table>\n",
       "<table class=\"simpletable\">\n",
       "<tr>\n",
       "  <th>Omnibus:</th>       <td>114.723</td> <th>  Durbin-Watson:     </th> <td>   2.271</td>\n",
       "</tr>\n",
       "<tr>\n",
       "  <th>Prob(Omnibus):</th> <td> 0.000</td>  <th>  Jarque-Bera (JB):  </th> <td>  33.485</td>\n",
       "</tr>\n",
       "<tr>\n",
       "  <th>Skew:</th>          <td>-0.108</td>  <th>  Prob(JB):          </th> <td>5.36e-08</td>\n",
       "</tr>\n",
       "<tr>\n",
       "  <th>Kurtosis:</th>      <td> 2.130</td>  <th>  Cond. No.          </th> <td>    1.12</td>\n",
       "</tr>\n",
       "</table><br/><br/>Warnings:<br/>[1] Standard Errors are heteroscedasticity robust (HC2)"
      ],
      "text/plain": [
       "<class 'statsmodels.iolib.summary.Summary'>\n",
       "\"\"\"\n",
       "                            OLS Regression Results                            \n",
       "==============================================================================\n",
       "Dep. Variable:                      W   R-squared:                       0.603\n",
       "Model:                            OLS   Adj. R-squared:                  0.601\n",
       "Method:                 Least Squares   F-statistic:                     424.5\n",
       "Date:                Mon, 12 Oct 2020   Prob (F-statistic):          5.06e-270\n",
       "Time:                        23:05:09   Log-Likelihood:                -228.85\n",
       "No. Observations:                1000   AIC:                             471.7\n",
       "Df Residuals:                     993   BIC:                             506.1\n",
       "Df Model:                           6                                         \n",
       "Covariance Type:                  HC2                                         \n",
       "==============================================================================\n",
       "                 coef    std err          z      P>|z|      [0.025      0.975]\n",
       "------------------------------------------------------------------------------\n",
       "const          0.6300      0.010     65.281      0.000       0.611       0.649\n",
       "GFP1           0.0903      0.009      9.811      0.000       0.072       0.108\n",
       "GFP2           0.1326      0.009     14.684      0.000       0.115       0.150\n",
       "GFP3           0.1619      0.009     17.767      0.000       0.144       0.180\n",
       "GAP1          -0.1568      0.009    -16.540      0.000      -0.175      -0.138\n",
       "GAP2          -0.1524      0.010    -15.723      0.000      -0.171      -0.133\n",
       "GAP3          -0.1751      0.009    -19.496      0.000      -0.193      -0.157\n",
       "==============================================================================\n",
       "Omnibus:                      114.723   Durbin-Watson:                   2.271\n",
       "Prob(Omnibus):                  0.000   Jarque-Bera (JB):               33.485\n",
       "Skew:                          -0.108   Prob(JB):                     5.36e-08\n",
       "Kurtosis:                       2.130   Cond. No.                         1.12\n",
       "==============================================================================\n",
       "\n",
       "Warnings:\n",
       "[1] Standard Errors are heteroscedasticity robust (HC2)\n",
       "\"\"\""
      ]
     },
     "execution_count": 40,
     "metadata": {},
     "output_type": "execute_result"
    }
   ],
   "source": [
    "X_ = games[['GFP1','GFP2', 'GFP3','GAP1','GAP2','GAP3']]\n",
    "X_ = sm.add_constant(X_)\n",
    "Y = games['W']\n",
    "model = sm.OLS(Y, X_)\n",
    "results = model.fit(cov_type = 'HC2')\n",
    "results.summary()"
   ]
  },
  {
   "cell_type": "code",
   "execution_count": 41,
   "metadata": {},
   "outputs": [
    {
     "data": {
      "text/html": [
       "<table class=\"simpletable\">\n",
       "<caption>OLS Regression Results</caption>\n",
       "<tr>\n",
       "  <th>Dep. Variable:</th>            <td>W</td>        <th>  R-squared:         </th> <td>   0.608</td> \n",
       "</tr>\n",
       "<tr>\n",
       "  <th>Model:</th>                   <td>OLS</td>       <th>  Adj. R-squared:    </th> <td>   0.605</td> \n",
       "</tr>\n",
       "<tr>\n",
       "  <th>Method:</th>             <td>Least Squares</td>  <th>  F-statistic:       </th> <td>   312.2</td> \n",
       "</tr>\n",
       "<tr>\n",
       "  <th>Date:</th>             <td>Mon, 12 Oct 2020</td> <th>  Prob (F-statistic):</th> <td>1.10e-264</td>\n",
       "</tr>\n",
       "<tr>\n",
       "  <th>Time:</th>                 <td>23:05:10</td>     <th>  Log-Likelihood:    </th> <td> -222.60</td> \n",
       "</tr>\n",
       "<tr>\n",
       "  <th>No. Observations:</th>      <td>  1000</td>      <th>  AIC:               </th> <td>   463.2</td> \n",
       "</tr>\n",
       "<tr>\n",
       "  <th>Df Residuals:</th>          <td>   991</td>      <th>  BIC:               </th> <td>   507.4</td> \n",
       "</tr>\n",
       "<tr>\n",
       "  <th>Df Model:</th>              <td>     8</td>      <th>                     </th>     <td> </td>    \n",
       "</tr>\n",
       "<tr>\n",
       "  <th>Covariance Type:</th>         <td>HC2</td>       <th>                     </th>     <td> </td>    \n",
       "</tr>\n",
       "</table>\n",
       "<table class=\"simpletable\">\n",
       "<tr>\n",
       "    <td></td>       <th>coef</th>     <th>std err</th>      <th>z</th>      <th>P>|z|</th>  <th>[0.025</th>    <th>0.975]</th>  \n",
       "</tr>\n",
       "<tr>\n",
       "  <th>const</th> <td>    0.6300</td> <td>    0.010</td> <td>   65.630</td> <td> 0.000</td> <td>    0.611</td> <td>    0.649</td>\n",
       "</tr>\n",
       "<tr>\n",
       "  <th>EV GF</th> <td>    0.0575</td> <td>    0.017</td> <td>    3.381</td> <td> 0.001</td> <td>    0.024</td> <td>    0.091</td>\n",
       "</tr>\n",
       "<tr>\n",
       "  <th>SH GF</th> <td>   -0.0008</td> <td>    0.009</td> <td>   -0.088</td> <td> 0.930</td> <td>   -0.019</td> <td>    0.017</td>\n",
       "</tr>\n",
       "<tr>\n",
       "  <th>GFP1</th>  <td>    0.0692</td> <td>    0.011</td> <td>    6.115</td> <td> 0.000</td> <td>    0.047</td> <td>    0.091</td>\n",
       "</tr>\n",
       "<tr>\n",
       "  <th>GFP2</th>  <td>    0.1051</td> <td>    0.012</td> <td>    8.491</td> <td> 0.000</td> <td>    0.081</td> <td>    0.129</td>\n",
       "</tr>\n",
       "<tr>\n",
       "  <th>GFP3</th>  <td>    0.1311</td> <td>    0.013</td> <td>    9.737</td> <td> 0.000</td> <td>    0.105</td> <td>    0.157</td>\n",
       "</tr>\n",
       "<tr>\n",
       "  <th>GAP1</th>  <td>   -0.1570</td> <td>    0.009</td> <td>  -16.603</td> <td> 0.000</td> <td>   -0.176</td> <td>   -0.138</td>\n",
       "</tr>\n",
       "<tr>\n",
       "  <th>GAP2</th>  <td>   -0.1521</td> <td>    0.010</td> <td>  -15.760</td> <td> 0.000</td> <td>   -0.171</td> <td>   -0.133</td>\n",
       "</tr>\n",
       "<tr>\n",
       "  <th>GAP3</th>  <td>   -0.1749</td> <td>    0.009</td> <td>  -19.585</td> <td> 0.000</td> <td>   -0.192</td> <td>   -0.157</td>\n",
       "</tr>\n",
       "</table>\n",
       "<table class=\"simpletable\">\n",
       "<tr>\n",
       "  <th>Omnibus:</th>       <td>112.319</td> <th>  Durbin-Watson:     </th> <td>   2.265</td>\n",
       "</tr>\n",
       "<tr>\n",
       "  <th>Prob(Omnibus):</th> <td> 0.000</td>  <th>  Jarque-Bera (JB):  </th> <td>  34.343</td>\n",
       "</tr>\n",
       "<tr>\n",
       "  <th>Skew:</th>          <td>-0.141</td>  <th>  Prob(JB):          </th> <td>3.49e-08</td>\n",
       "</tr>\n",
       "<tr>\n",
       "  <th>Kurtosis:</th>      <td> 2.137</td>  <th>  Cond. No.          </th> <td>    3.41</td>\n",
       "</tr>\n",
       "</table><br/><br/>Warnings:<br/>[1] Standard Errors are heteroscedasticity robust (HC2)"
      ],
      "text/plain": [
       "<class 'statsmodels.iolib.summary.Summary'>\n",
       "\"\"\"\n",
       "                            OLS Regression Results                            \n",
       "==============================================================================\n",
       "Dep. Variable:                      W   R-squared:                       0.608\n",
       "Model:                            OLS   Adj. R-squared:                  0.605\n",
       "Method:                 Least Squares   F-statistic:                     312.2\n",
       "Date:                Mon, 12 Oct 2020   Prob (F-statistic):          1.10e-264\n",
       "Time:                        23:05:10   Log-Likelihood:                -222.60\n",
       "No. Observations:                1000   AIC:                             463.2\n",
       "Df Residuals:                     991   BIC:                             507.4\n",
       "Df Model:                           8                                         \n",
       "Covariance Type:                  HC2                                         \n",
       "==============================================================================\n",
       "                 coef    std err          z      P>|z|      [0.025      0.975]\n",
       "------------------------------------------------------------------------------\n",
       "const          0.6300      0.010     65.630      0.000       0.611       0.649\n",
       "EV GF          0.0575      0.017      3.381      0.001       0.024       0.091\n",
       "SH GF         -0.0008      0.009     -0.088      0.930      -0.019       0.017\n",
       "GFP1           0.0692      0.011      6.115      0.000       0.047       0.091\n",
       "GFP2           0.1051      0.012      8.491      0.000       0.081       0.129\n",
       "GFP3           0.1311      0.013      9.737      0.000       0.105       0.157\n",
       "GAP1          -0.1570      0.009    -16.603      0.000      -0.176      -0.138\n",
       "GAP2          -0.1521      0.010    -15.760      0.000      -0.171      -0.133\n",
       "GAP3          -0.1749      0.009    -19.585      0.000      -0.192      -0.157\n",
       "==============================================================================\n",
       "Omnibus:                      112.319   Durbin-Watson:                   2.265\n",
       "Prob(Omnibus):                  0.000   Jarque-Bera (JB):               34.343\n",
       "Skew:                          -0.141   Prob(JB):                     3.49e-08\n",
       "Kurtosis:                       2.137   Cond. No.                         3.41\n",
       "==============================================================================\n",
       "\n",
       "Warnings:\n",
       "[1] Standard Errors are heteroscedasticity robust (HC2)\n",
       "\"\"\""
      ]
     },
     "execution_count": 41,
     "metadata": {},
     "output_type": "execute_result"
    }
   ],
   "source": [
    "X_ = games[['EV GF', 'SH GF', 'GFP1','GFP2', 'GFP3','GAP1','GAP2','GAP3']]\n",
    "X_ = sm.add_constant(X_)\n",
    "Y = games['W']\n",
    "model = sm.OLS(Y, X_)\n",
    "results = model.fit(cov_type = 'HC2')\n",
    "results.summary()"
   ]
  },
  {
   "cell_type": "markdown",
   "metadata": {},
   "source": [
    "Based on the coefficients of this model, Even Strength Goals has the greatest effect while Goals For in Periods 2 & 3 are not statistically significant. This suggests that it doesn't matter in what period goals are scored. It would have been interesting to find that Goals For in Periods 2 & 3 had large effects because that would suggest a strategy of letting the opposing team tire out in the first period and then take advantage of their exhaustion in the 2nd & 3rd. "
   ]
  },
  {
   "cell_type": "markdown",
   "metadata": {},
   "source": [
    "All of this basically highlights one of the limits of PCA which is that if the data has very little variance to begin with, PCA will not be very successful in reducing dimension."
   ]
  }
 ],
 "metadata": {
  "kernelspec": {
   "display_name": "Python 3",
   "language": "python",
   "name": "python3"
  },
  "language_info": {
   "codemirror_mode": {
    "name": "ipython",
    "version": 3
   },
   "file_extension": ".py",
   "mimetype": "text/x-python",
   "name": "python",
   "nbconvert_exporter": "python",
   "pygments_lexer": "ipython3",
   "version": "3.7.6"
  }
 },
 "nbformat": 4,
 "nbformat_minor": 4
}
